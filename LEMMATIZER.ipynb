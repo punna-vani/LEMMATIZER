{
 "cells": [
  {
   "cell_type": "code",
   "execution_count": 1,
   "id": "2ab6e630",
   "metadata": {},
   "outputs": [],
   "source": [
    "import nltk"
   ]
  },
  {
   "cell_type": "code",
   "execution_count": 2,
   "id": "c283253f",
   "metadata": {},
   "outputs": [],
   "source": [
    "from nltk.stem import WordNetLemmatizer"
   ]
  },
  {
   "cell_type": "code",
   "execution_count": 3,
   "id": "514394a2",
   "metadata": {},
   "outputs": [],
   "source": [
    "from nltk.corpus import stopwords"
   ]
  },
  {
   "cell_type": "code",
   "execution_count": 4,
   "id": "0edfa7ca",
   "metadata": {},
   "outputs": [],
   "source": [
    "paragraph=\"\"\"India, a land of diverse cultures and rich heritage, captivates the senses with its vibrant colors, flavors, and traditions. \n",
    "From the bustling streets of Delhi to the tranquil backwaters of Kerala, the country offers a tapestry of experiences. \n",
    "The aroma of spices wafts through the air in bustling markets, where vendors enthusiastically showcase their wares. \n",
    "Ancient temples and magnificent palaces stand as testaments to India's architectural marvels, while traditional dance forms and melodious music enthrall audiences with their grace and rhythm.\n",
    "With its mouthwatering cuisine, captivating history, and warm hospitality, India beckons travelers to immerse themselves in its enchanting tapestry of sights, sounds, and flavors.\n",
    "Userhistory of indiaThe history of India is incredibly vast and spans thousands of years. Here is a brief overview of the major periods and events in Indian history:\n",
    "Ancient India (pre-2500 BCE to 600 BCE): The earliest civilization in India emerged in the Indus Valley region, known as the Indus Valley Civilization (2600 BCE to 1900 BCE).\n",
    "It was an advanced urban society with well-planned cities like Harappa and Mohenjo-Daro. After the decline of the Indus Valley Civilization, the Aryan tribes migrated to the Indian subcontinent and settled in various regions.\n",
    "The Vedic period (1500 BCE to 500 BCE) saw the composition of the Rigveda and the emergence of Hinduism.\n",
    "Classical Empires (600 BCE to 1200 CE): The Maurya Empire (322 BCE to 185 BCE), led by Emperor Ashoka, was one of the first major empires in ancient India, encompassing a significant portion of the subcontinent.\n",
    "It was followed by the Gupta Empire (320 CE to 550 CE), which is often referred to as the \"Golden Age\" of India, known for its advancements in science, mathematics, art, and literature.\n",
    "Medieval India (1200 CE to 1700 CE): This period witnessed the rise of various dynasties and kingdoms. The Delhi Sultanate (1206 CE to 1526 CE), established by Turkic and Afghan dynasties, marked the beginning of Islamic rule in northern India.\n",
    "The Mughal Empire (1526 CE to 1857 CE), founded by Babur, was a powerful Muslim empire that ruled over a large part of the subcontinent. \n",
    "It saw significant cultural and architectural achievements, including the construction of iconic monuments like the Taj Mahal.\n",
    "Colonial Era (1600 CE to 1947 CE): European powers, primarily the British, established trading posts in India in the 17th century. \n",
    "Over time, the British East India Company gained control over large parts of India. The British Raj was established in 1858 after the Indian Rebellion of 1857, and India became a British colony. \n",
    "The struggle for independence grew, led by various freedom fighters and social reformers, eventually culminating in India's independence on August 15, 1947.\"\"\""
   ]
  },
  {
   "cell_type": "code",
   "execution_count": 5,
   "id": "37bea186",
   "metadata": {},
   "outputs": [
    {
     "data": {
      "text/plain": [
       "'India, a land of diverse cultures and rich heritage, captivates the senses with its vibrant colors, flavors, and traditions. \\nFrom the bustling streets of Delhi to the tranquil backwaters of Kerala, the country offers a tapestry of experiences. \\nThe aroma of spices wafts through the air in bustling markets, where vendors enthusiastically showcase their wares. \\nAncient temples and magnificent palaces stand as testaments to India\\'s architectural marvels, while traditional dance forms and melodious music enthrall audiences with their grace and rhythm.\\nWith its mouthwatering cuisine, captivating history, and warm hospitality, India beckons travelers to immerse themselves in its enchanting tapestry of sights, sounds, and flavors.\\nUserhistory of indiaThe history of India is incredibly vast and spans thousands of years. Here is a brief overview of the major periods and events in Indian history:\\nAncient India (pre-2500 BCE to 600 BCE): The earliest civilization in India emerged in the Indus Valley region, known as the Indus Valley Civilization (2600 BCE to 1900 BCE).\\nIt was an advanced urban society with well-planned cities like Harappa and Mohenjo-Daro. After the decline of the Indus Valley Civilization, the Aryan tribes migrated to the Indian subcontinent and settled in various regions.\\nThe Vedic period (1500 BCE to 500 BCE) saw the composition of the Rigveda and the emergence of Hinduism.\\nClassical Empires (600 BCE to 1200 CE): The Maurya Empire (322 BCE to 185 BCE), led by Emperor Ashoka, was one of the first major empires in ancient India, encompassing a significant portion of the subcontinent.\\nIt was followed by the Gupta Empire (320 CE to 550 CE), which is often referred to as the \"Golden Age\" of India, known for its advancements in science, mathematics, art, and literature.\\nMedieval India (1200 CE to 1700 CE): This period witnessed the rise of various dynasties and kingdoms. The Delhi Sultanate (1206 CE to 1526 CE), established by Turkic and Afghan dynasties, marked the beginning of Islamic rule in northern India.\\nThe Mughal Empire (1526 CE to 1857 CE), founded by Babur, was a powerful Muslim empire that ruled over a large part of the subcontinent. \\nIt saw significant cultural and architectural achievements, including the construction of iconic monuments like the Taj Mahal.\\nColonial Era (1600 CE to 1947 CE): European powers, primarily the British, established trading posts in India in the 17th century. \\nOver time, the British East India Company gained control over large parts of India. The British Raj was established in 1858 after the Indian Rebellion of 1857, and India became a British colony. \\nThe struggle for independence grew, led by various freedom fighters and social reformers, eventually culminating in India\\'s independence on August 15, 1947.'"
      ]
     },
     "execution_count": 5,
     "metadata": {},
     "output_type": "execute_result"
    }
   ],
   "source": [
    "paragraph"
   ]
  },
  {
   "cell_type": "code",
   "execution_count": 6,
   "id": "64bb066e",
   "metadata": {},
   "outputs": [],
   "source": [
    "sentences=nltk.sent_tokenize(paragraph)"
   ]
  },
  {
   "cell_type": "code",
   "execution_count": 7,
   "id": "59d8c9ee",
   "metadata": {},
   "outputs": [],
   "source": [
    "lemmatizer=WordNetLemmatizer()"
   ]
  },
  {
   "cell_type": "code",
   "execution_count": 8,
   "id": "77f05e73",
   "metadata": {},
   "outputs": [
    {
     "data": {
      "text/plain": [
       "['India, a land of diverse cultures and rich heritage, captivates the senses with its vibrant colors, flavors, and traditions.',\n",
       " 'From the bustling streets of Delhi to the tranquil backwaters of Kerala, the country offers a tapestry of experiences.',\n",
       " 'The aroma of spices wafts through the air in bustling markets, where vendors enthusiastically showcase their wares.',\n",
       " \"Ancient temples and magnificent palaces stand as testaments to India's architectural marvels, while traditional dance forms and melodious music enthrall audiences with their grace and rhythm.\",\n",
       " 'With its mouthwatering cuisine, captivating history, and warm hospitality, India beckons travelers to immerse themselves in its enchanting tapestry of sights, sounds, and flavors.',\n",
       " 'Userhistory of indiaThe history of India is incredibly vast and spans thousands of years.',\n",
       " 'Here is a brief overview of the major periods and events in Indian history:\\nAncient India (pre-2500 BCE to 600 BCE): The earliest civilization in India emerged in the Indus Valley region, known as the Indus Valley Civilization (2600 BCE to 1900 BCE).',\n",
       " 'It was an advanced urban society with well-planned cities like Harappa and Mohenjo-Daro.',\n",
       " 'After the decline of the Indus Valley Civilization, the Aryan tribes migrated to the Indian subcontinent and settled in various regions.',\n",
       " 'The Vedic period (1500 BCE to 500 BCE) saw the composition of the Rigveda and the emergence of Hinduism.',\n",
       " 'Classical Empires (600 BCE to 1200 CE): The Maurya Empire (322 BCE to 185 BCE), led by Emperor Ashoka, was one of the first major empires in ancient India, encompassing a significant portion of the subcontinent.',\n",
       " 'It was followed by the Gupta Empire (320 CE to 550 CE), which is often referred to as the \"Golden Age\" of India, known for its advancements in science, mathematics, art, and literature.',\n",
       " 'Medieval India (1200 CE to 1700 CE): This period witnessed the rise of various dynasties and kingdoms.',\n",
       " 'The Delhi Sultanate (1206 CE to 1526 CE), established by Turkic and Afghan dynasties, marked the beginning of Islamic rule in northern India.',\n",
       " 'The Mughal Empire (1526 CE to 1857 CE), founded by Babur, was a powerful Muslim empire that ruled over a large part of the subcontinent.',\n",
       " 'It saw significant cultural and architectural achievements, including the construction of iconic monuments like the Taj Mahal.',\n",
       " 'Colonial Era (1600 CE to 1947 CE): European powers, primarily the British, established trading posts in India in the 17th century.',\n",
       " 'Over time, the British East India Company gained control over large parts of India.',\n",
       " 'The British Raj was established in 1858 after the Indian Rebellion of 1857, and India became a British colony.',\n",
       " \"The struggle for independence grew, led by various freedom fighters and social reformers, eventually culminating in India's independence on August 15, 1947.\"]"
      ]
     },
     "execution_count": 8,
     "metadata": {},
     "output_type": "execute_result"
    }
   ],
   "source": [
    "sentences"
   ]
  },
  {
   "cell_type": "code",
   "execution_count": 10,
   "id": "6d9a8afd",
   "metadata": {},
   "outputs": [],
   "source": [
    "for i in range(len(sentences)):\n",
    "    words=nltk.word_tokenize(sentences[i])\n",
    "    words=[lemmatizer.lemmatize(word)for word in words if word not in set(stopwords.words('english'))]\n",
    "    sentences[i]=' '.join(words)"
   ]
  },
  {
   "cell_type": "code",
   "execution_count": 11,
   "id": "c25106a8",
   "metadata": {},
   "outputs": [
    {
     "data": {
      "text/plain": [
       "['India , land diverse culture rich heritage , captivates sens vibrant color , flavor , tradition .',\n",
       " 'From bustling street Delhi tranquil backwater Kerala , country offer tapestry experience .',\n",
       " 'The aroma spice waft air bustling market , vendor enthusiastically showcase ware .',\n",
       " \"Ancient temple magnificent palace stand testament India 's architectural marvel , traditional dance form melodious music enthrall audience grace rhythm .\",\n",
       " 'With mouthwatering cuisine , captivating history , warm hospitality , India beckons traveler immerse enchanting tapestry sight , sound , flavor .',\n",
       " 'Userhistory indiaThe history India incredibly vast span thousand year .',\n",
       " 'Here brief overview major period event Indian history : Ancient India ( pre-2500 BCE 600 BCE ) : The earliest civilization India emerged Indus Valley region , known Indus Valley Civilization ( 2600 BCE 1900 BCE ) .',\n",
       " 'It advanced urban society well-planned city like Harappa Mohenjo-Daro .',\n",
       " 'After decline Indus Valley Civilization , Aryan tribe migrated Indian subcontinent settled various region .',\n",
       " 'The Vedic period ( 1500 BCE 500 BCE ) saw composition Rigveda emergence Hinduism .',\n",
       " 'Classical Empires ( 600 BCE 1200 CE ) : The Maurya Empire ( 322 BCE 185 BCE ) , led Emperor Ashoka , one first major empire ancient India , encompassing significant portion subcontinent .',\n",
       " \"It followed Gupta Empire ( 320 CE 550 CE ) , often referred `` Golden Age '' India , known advancement science , mathematics , art , literature .\",\n",
       " 'Medieval India ( 1200 CE 1700 CE ) : This period witnessed rise various dynasty kingdom .',\n",
       " 'The Delhi Sultanate ( 1206 CE 1526 CE ) , established Turkic Afghan dynasty , marked beginning Islamic rule northern India .',\n",
       " 'The Mughal Empire ( 1526 CE 1857 CE ) , founded Babur , powerful Muslim empire ruled large part subcontinent .',\n",
       " 'It saw significant cultural architectural achievement , including construction iconic monument like Taj Mahal .',\n",
       " 'Colonial Era ( 1600 CE 1947 CE ) : European power , primarily British , established trading post India 17th century .',\n",
       " 'Over time , British East India Company gained control large part India .',\n",
       " 'The British Raj established 1858 Indian Rebellion 1857 , India became British colony .',\n",
       " \"The struggle independence grew , led various freedom fighter social reformer , eventually culminating India 's independence August 15 , 1947 .\"]"
      ]
     },
     "execution_count": 11,
     "metadata": {},
     "output_type": "execute_result"
    }
   ],
   "source": [
    "sentences"
   ]
  }
 ],
 "metadata": {
  "kernelspec": {
   "display_name": "Python 3 (ipykernel)",
   "language": "python",
   "name": "python3"
  },
  "language_info": {
   "codemirror_mode": {
    "name": "ipython",
    "version": 3
   },
   "file_extension": ".py",
   "mimetype": "text/x-python",
   "name": "python",
   "nbconvert_exporter": "python",
   "pygments_lexer": "ipython3",
   "version": "3.10.9"
  }
 },
 "nbformat": 4,
 "nbformat_minor": 5
}
